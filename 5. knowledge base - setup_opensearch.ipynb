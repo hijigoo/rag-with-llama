{
 "cells": [
  {
   "cell_type": "markdown",
   "id": "256abce5",
   "metadata": {},
   "source": [
    "# OpenSearch Provisioning"
   ]
  },
  {
   "cell_type": "markdown",
   "id": "41c78726",
   "metadata": {},
   "source": [
    "Knowledge Base 로 사용할 OpenSearch 를 프로비져닝 합니다."
   ]
  },
  {
   "cell_type": "markdown",
   "id": "c16eae35",
   "metadata": {},
   "source": [
    "## 1. OpenSearch 도메인 생성\n",
    "\n",
    "SageMaker JupyterLab에서 코드를 통해 OpenSearch Domain을 생성하는 경우, SageMaker Notebook IAM role에 OpenSearchFullAccess와 같은 권한이 필요합니다."
   ]
  },
  {
   "cell_type": "code",
   "execution_count": null,
   "id": "d38e5c44",
   "metadata": {},
   "outputs": [],
   "source": [
    "import boto3\n",
    "import uuid\n",
    "import botocore\n",
    "import time\n",
    "DEV = True # True일 경우 1-AZ without standby로 생성, False일 경우 3-AZ with standby. 워크샵 목적일 때는 지나친 과금/리소스 방지를 위해 True로 설정하는 것을 권장\n",
    "VERSION = \"2.11\" # OpenSearch Version (예: 2.7 / 2.9 / 2.11 / 2.13)\n",
    "\n",
    "opensearch_user_id = 'raguser'\n",
    "opensearch_user_password = 'Passw0rd1!'\n",
    "\n",
    "region = boto3.Session().region_name\n",
    "account_id = boto3.client(\"sts\").get_caller_identity()[\"Account\"]\n",
    "opensearch = boto3.client('opensearch', region)\n",
    "rand_str = uuid.uuid4().hex[:8]\n",
    "opensearch_domain_name = f'rag-hol-{rand_str}'\n",
    "\n",
    "cluster_config_prod = {\n",
    "    'InstanceCount': 3,\n",
    "    'InstanceType': 'r6g.large.search',\n",
    "    'ZoneAwarenessEnabled': True,\n",
    "    'DedicatedMasterEnabled': True,\n",
    "    'MultiAZWithStandbyEnabled': True,\n",
    "    'DedicatedMasterType': 'r6g.large.search',\n",
    "    'DedicatedMasterCount': 3\n",
    "}\n",
    "\n",
    "cluster_config_dev = {\n",
    "    'InstanceCount': 1,\n",
    "    'InstanceType': 'r6g.large.search',\n",
    "    'ZoneAwarenessEnabled': False,\n",
    "    'DedicatedMasterEnabled': False,\n",
    "}\n",
    "\n",
    "\n",
    "ebs_options = {\n",
    "    'EBSEnabled': True,\n",
    "    'VolumeType': 'gp3',\n",
    "    'VolumeSize': 100,\n",
    "}\n",
    "\n",
    "advanced_security_options = {\n",
    "    'Enabled': True,\n",
    "    'InternalUserDatabaseEnabled': True,\n",
    "    'MasterUserOptions': {\n",
    "        'MasterUserName': opensearch_user_id,\n",
    "        'MasterUserPassword': opensearch_user_password\n",
    "    }\n",
    "}\n",
    "\n",
    "ap = f'{{\\\"Version\\\":\\\"2012-10-17\\\",\\\"Statement\\\":[{{\\\"Effect\\\":\\\"Allow\\\",\\\"Principal\\\":{{\\\"AWS\\\":\\\"*\\\"}},\\\"Action\\\":\\\"es:*\\\",\\\"Resource\\\":\\\"arn:aws:es:{region}:{account_id}:domain\\/{opensearch_domain_name}\\/*\\\"}}]}}'\n",
    "\n",
    "if DEV:\n",
    "    cluster_config = cluster_config_dev\n",
    "else:\n",
    "    cluster_config = cluster_config_prod\n",
    "    \n",
    "response = opensearch.create_domain(\n",
    "    DomainName=opensearch_domain_name,\n",
    "    EngineVersion=f'OpenSearch_{VERSION}',\n",
    "    ClusterConfig=cluster_config,\n",
    "    AccessPolicies=ap,\n",
    "    EBSOptions=ebs_options,\n",
    "    AdvancedSecurityOptions=advanced_security_options,\n",
    "    NodeToNodeEncryptionOptions={'Enabled': True},\n",
    "    EncryptionAtRestOptions={'Enabled': True},\n",
    "    DomainEndpointOptions={'EnforceHTTPS': True}\n",
    ")"
   ]
  },
  {
   "cell_type": "markdown",
   "id": "683b70f2",
   "metadata": {},
   "source": [
    "## 2. OpenSearch 도메인 생성 완료 대기 (20분 소요)"
   ]
  },
  {
   "cell_type": "code",
   "execution_count": null,
   "id": "b5a56916",
   "metadata": {},
   "outputs": [],
   "source": [
    "%%time\n",
    "def wait_for_domain_creation(domain_name):\n",
    "    try:\n",
    "        response = opensearch.describe_domain(\n",
    "            DomainName=domain_name\n",
    "        )\n",
    "        # Every 60 seconds, check whether the domain is processing.\n",
    "        while 'Endpoint' not in response['DomainStatus']:\n",
    "            print('Creating domain...')\n",
    "            time.sleep(60)\n",
    "            response = opensearch.describe_domain(\n",
    "                DomainName=domain_name)\n",
    "\n",
    "        # Once we exit the loop, the domain is ready for ingestion.\n",
    "        endpoint = response['DomainStatus']['Endpoint']\n",
    "        print('Domain endpoint ready to receive data: ' + endpoint)\n",
    "    except botocore.exceptions.ClientError as error:\n",
    "        if error.response['Error']['Code'] == 'ResourceNotFoundException':\n",
    "            print('Domain not found.')\n",
    "        else:\n",
    "            raise error\n",
    "\n",
    "# OpenSearch 도메인 생성 - 약 20분 소요\n",
    "wait_for_domain_creation(opensearch_domain_name)"
   ]
  },
  {
   "cell_type": "markdown",
   "id": "ffd0e87b",
   "metadata": {},
   "source": [
    "## 3. OpenSearch 도메인 Endpoint 확인"
   ]
  },
  {
   "cell_type": "code",
   "execution_count": null,
   "id": "090321fc",
   "metadata": {},
   "outputs": [],
   "source": [
    "response = opensearch.describe_domain(DomainName=opensearch_domain_name)\n",
    "opensearch_domain_endpoint = f\"https://{response['DomainStatus']['Endpoint']}\"\n",
    "\n",
    "# OpenSearch 도메인 Endpoint 확인\n",
    "print(opensearch_domain_endpoint)"
   ]
  },
  {
   "cell_type": "markdown",
   "id": "979c3ee4",
   "metadata": {},
   "source": [
    "## 4. 필요한 변수 저장"
   ]
  },
  {
   "cell_type": "code",
   "execution_count": null,
   "id": "f52bc413",
   "metadata": {},
   "outputs": [],
   "source": [
    "# 다음 노트북에서 OpenSearch 연결 정보를 활용하기 위해 변수 저장\n",
    "print(f\"OpenSearch User Id: {opensearch_user_id}\")\n",
    "print(f\"OpenSearch User Password: {opensearch_user_password}\")\n",
    "print(f\"OpenSearch Domain Name: {opensearch_domain_name}\")\n",
    "print(f\"OpenSearch Domain Endpoint: {opensearch_domain_endpoint}\")\n",
    "print()\n",
    "%store opensearch_user_id opensearch_user_password opensearch_domain_name opensearch_domain_endpoint"
   ]
  },
  {
   "cell_type": "markdown",
   "id": "0c0bd740",
   "metadata": {},
   "source": [
    "## 4. (Option) 도메인 삭제"
   ]
  },
  {
   "cell_type": "code",
   "execution_count": null,
   "id": "26895606",
   "metadata": {
    "tags": []
   },
   "outputs": [],
   "source": [
    "# import boto3\n",
    "# import botocore\n",
    "\n",
    "# opensearch = boto3.client('opensearch', region)\n",
    "\n",
    "\n",
    "# # 삭제할 OpenSearch 도메인 이름을 콘솔에서 확인하고 입력합니다.\n",
    "# domain_name = \"rag-hol-aeb17f2f\"\n",
    "\n",
    "\n",
    "# try:\n",
    "#     # OpenSearch 도메인 삭제\n",
    "#     response = opensearch.delete_domain(\n",
    "#         DomainName=domain_name\n",
    "#     )\n",
    "#     print(f\"Deleting domain '{domain_name}'...\")\n",
    "\n",
    "#     # 도메인이 완전히 삭제될 때까지 기다립니다.\n",
    "#     while True:\n",
    "#         try:\n",
    "#             describe_response = opensearch.describe_domain(DomainName=domain_name)\n",
    "#             status = describe_response['DomainStatus']['Processing']\n",
    "#             if not status:\n",
    "#                 print(f\"Domain '{domain_name}' has been deleted.\")\n",
    "#                 break\n",
    "#             else:\n",
    "#                 print(f\"Waiting for domain '{domain_name}' to be deleted...\")\n",
    "#                 time.sleep(60)\n",
    "#         except botocore.exceptions.ClientError as e:\n",
    "#             if e.response['Error']['Code'] == 'ResourceNotFoundException':\n",
    "#                 print(f\"Domain '{domain_name}' has been deleted.\")\n",
    "#                 break\n",
    "#             else:\n",
    "#                 raise e\n",
    "\n",
    "# except botocore.exceptions.ClientError as e:\n",
    "#     print(f\"Error: {e.response['Error']['Message']}\")\n",
    "    "
   ]
  },
  {
   "cell_type": "code",
   "execution_count": null,
   "id": "3ab632d7",
   "metadata": {},
   "outputs": [],
   "source": []
  }
 ],
 "metadata": {
  "kernelspec": {
   "display_name": "conda_python3",
   "language": "python",
   "name": "conda_python3"
  },
  "language_info": {
   "codemirror_mode": {
    "name": "ipython",
    "version": 3
   },
   "file_extension": ".py",
   "mimetype": "text/x-python",
   "name": "python",
   "nbconvert_exporter": "python",
   "pygments_lexer": "ipython3",
   "version": "3.10.15"
  }
 },
 "nbformat": 4,
 "nbformat_minor": 5
}
