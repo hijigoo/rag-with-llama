{
 "cells": [
  {
   "cell_type": "markdown",
   "id": "e495e636",
   "metadata": {},
   "source": [
    "# LLM 과 OpenSearch 를 이용해서 RAG 아키텍처를 구축합니다.\n",
    "\n",
    "\n",
    "여기서는 OpenSearch 가 설치된 것을 가정합니다."
   ]
  },
  {
   "cell_type": "markdown",
   "id": "71383b14",
   "metadata": {},
   "source": [
    "## 0. 필요한 변수 불러오기"
   ]
  },
  {
   "cell_type": "code",
   "execution_count": null,
   "id": "44472fae",
   "metadata": {},
   "outputs": [],
   "source": [
    "# OpenSearch와 통신하기 위해서 앞서 저장했던 변수를 불러옵니다.\n",
    "%store -r opensearch_user_id opensearch_user_password opensearch_domain_name opensearch_domain_endpoint\n",
    "\n",
    "print(f\"OpenSearch User Id: {opensearch_user_id}\")\n",
    "print(f\"OpenSearch User Password: {opensearch_user_password}\")\n",
    "print(f\"OpenSearch Domain Name: {opensearch_domain_name}\")\n",
    "print(f\"OpenSearch Domain Endpoint: {opensearch_domain_endpoint}\")\n",
    "print()\n",
    "    \n",
    "    \n",
    "# SageMaker Endpoint 와 통신하기 위해서 저장했던 변수를 불러옵니다.\n",
    "%store -r endpoint_name\n",
    "print(f\"SageMaker EndpointName: {endpoint_name}\")\n",
    "print()"
   ]
  },
  {
   "cell_type": "code",
   "execution_count": null,
   "id": "0288fb65",
   "metadata": {},
   "outputs": [],
   "source": [
    "# 저장이 되어 있지 않다면 직접 관련 정보를 입력합니다.\n",
    "\n",
    "# opensearch_user_id = 'raguser'\n",
    "# opensearch_user_password = 'Passw0rd1!'\n",
    "\n",
    "# opensearch_domain_name = 'rag-hol-6efd6d14'\n",
    "# opensearch_domain_endpoint = 'https://search-rag-hol-6efd6d14-5wbkv7qjrlci47h5ka63cw5fxy.us-west-2.es.amazonaws.com'\n",
    "\n",
    "# endpoint_name='llama-3-2-1b-instruct-2024-11-18-14-18-13-972'"
   ]
  },
  {
   "cell_type": "markdown",
   "id": "4b94d276",
   "metadata": {},
   "source": [
    "## 1. Bedrock 호출 테스트"
   ]
  },
  {
   "cell_type": "code",
   "execution_count": null,
   "id": "fad2928b",
   "metadata": {},
   "outputs": [],
   "source": [
    "import boto3\n",
    "import json\n",
    "\n",
    "# Bedrock 클라이언트 생성\n",
    "bedrock_runtime = boto3.client('bedrock-runtime')\n",
    "\n",
    "# converse API 호출\n",
    "response = bedrock_runtime.converse(\n",
    "    modelId=\"anthropic.claude-3-haiku-20240307-v1:0\",\n",
    "    messages=[{\"role\": \"user\", \"content\": [{\"text\": \"안녕하세요, 당신은 누구인가요?\"}]}],\n",
    "    system=[{\"text\": \"당신은 친절한 AI 친구입니다. 상냥하게 답변해주세요.\"}],\n",
    "    inferenceConfig={\"maxTokens\": 512, \"temperature\": 0.5, \"topP\": 0.9}\n",
    ")\n",
    "\n",
    "# 응답 처리\n",
    "ai_message = response[\"output\"][\"message\"]\n",
    "output_text = ai_message[\"content\"][0][\"text\"]\n",
    "print(f\"{output_text}\")"
   ]
  },
  {
   "cell_type": "markdown",
   "id": "202707f1",
   "metadata": {},
   "source": [
    "## 2. SageMaker Endpoint (llama 3.2 1b - instruct) 호출 테스트"
   ]
  },
  {
   "cell_type": "code",
   "execution_count": null,
   "id": "89444432",
   "metadata": {},
   "outputs": [],
   "source": [
    "import json\n",
    "import boto3\n",
    "import datetime\n",
    "\n",
    "region = boto3.Session().region_name\n",
    "sagemaker_runtime = boto3.client(\n",
    "    \"sagemaker-runtime\",\n",
    "    region_name=region\n",
    ")"
   ]
  },
  {
   "cell_type": "code",
   "execution_count": null,
   "id": "b29b048a",
   "metadata": {},
   "outputs": [],
   "source": [
    "client = boto3.client(\"sagemaker-runtime\", region_name='us-west-2')\n",
    "\n",
    "system =\"You are a helpful assistant\" \n",
    "text = \"Hello! Who are you?\"\n",
    "prompt=f\"\"\"\n",
    "<|begin_of_text|><|start_header_id|>system<|end_header_id|>\n",
    "\n",
    "{system}|eot_id|><|start_header_id|>user<|end_header_id|>\n",
    "\n",
    "{text}<|eot_id|><|start_header_id|>assistant<|end_header_id|>\n",
    "\"\"\"\n",
    "\n",
    "payload = {\n",
    "    \"inputs\": prompt,\n",
    "    \"parameters\": {\n",
    "        \"max_new_tokens\": 128,\n",
    "        \"top_p\": 0.9,\n",
    "        \"temperature\": 0.9,\n",
    "        # \"stream\": True,\n",
    "        # \"return_full_text\": False\n",
    "    }\n",
    "}\n",
    "\n",
    "time_to_first_token = -1\n",
    "start_time = datetime.datetime.now()\n",
    "\n",
    "response = client.invoke_endpoint(\n",
    "    EndpointName=endpoint_name,\n",
    "    ContentType=\"application/json\",\n",
    "    Body=json.dumps(payload),\n",
    ")\n",
    "\n",
    "# 응답 처리\n",
    "end_time = datetime.datetime.now()\n",
    "response_body = json.loads(response['Body'].read().decode())\n",
    "\n",
    "# 응답 시간 계산\n",
    "total_time = (end_time - start_time).total_seconds()\n",
    "\n",
    "# 결과 출력\n",
    "print(f\"# System\\n- {system}\\n\")\n",
    "print(f\"# Text\\n- {text}\\n\")\n",
    "print(f\"# Prompt\\n- {prompt}\")\n",
    "print(f\"# Response\\n- {response_body['generated_text']}\\n\")\n",
    "print(f\"# Total time\\n- {total_time:.2f} seconds\\n\")"
   ]
  },
  {
   "cell_type": "markdown",
   "id": "b5c2a519",
   "metadata": {},
   "source": [
    "## 3. OpenSearch 호출 테스트 - 문서 검색"
   ]
  },
  {
   "cell_type": "markdown",
   "id": "4a1c7a96-6941-4fef-ab14-0db374a1b051",
   "metadata": {
    "tags": []
   },
   "source": [
    "query = \"아마존의 비전은 무엇인가요\"\n",
    "k = 3\n",
    "results=vector_db.similarity_search_with_score(\n",
    "    query,\n",
    "    k=k\n",
    ")\n",
    "page_contents = [res[0].page_content for res in results]\n",
    "print(page_contents[0])"
   ]
  },
  {
   "cell_type": "code",
   "execution_count": null,
   "id": "32e38aa5",
   "metadata": {},
   "outputs": [],
   "source": [
    "# from opensearchpy import OpenSearch, RequestsHttpConnection\n",
    "\n",
    "# # Delete index\n",
    "# os_client = OpenSearch(\n",
    "#     region=region,\n",
    "#     hosts=[{'host': opensearch_domain_endpoint.replace(\"https://\", \"\"), 'port': 443}],\n",
    "#     http_auth=http_auth,\n",
    "#     use_ssl=True,\n",
    "#     verify_certs=True,\n",
    "#     connection_class=RequestsHttpConnection\n",
    "# )\n",
    "# os_client.indices.delete(index=index_name)"
   ]
  },
  {
   "cell_type": "markdown",
   "id": "d244d6ae",
   "metadata": {},
   "source": [
    "## 4. RAG 구성으로 호출 - Bedrock 사용해서 응답 생성"
   ]
  },
  {
   "cell_type": "markdown",
   "id": "2802d83c-49a0-4129-8db4-f22182b07d23",
   "metadata": {
    "tags": []
   },
   "source": [
    "### 4-1. Knowledge Base 에서 질문과 유사도가 높은 내용 검색"
   ]
  },
  {
   "cell_type": "code",
   "execution_count": null,
   "id": "dc105533",
   "metadata": {
    "tags": []
   },
   "outputs": [],
   "source": [
    "query = \"아마존의 비전은 무엇인가요\"\n",
    "k = 3\n",
    "results=vector_db.similarity_search_with_score(\n",
    "    query,\n",
    "    k=k\n",
    ")\n",
    "page_contents = [res[0].page_content for res in results]\n",
    "context = page_contents[0]\n",
    "print(context)"
   ]
  },
  {
   "cell_type": "markdown",
   "id": "f450460d-6c6b-44fd-a9ea-228dad7d4140",
   "metadata": {},
   "source": [
    "### 4-2. 유사도가 높은 내용(Context)을 포함한 프롬프트 작성"
   ]
  },
  {
   "cell_type": "code",
   "execution_count": null,
   "id": "a17df6b8-2a06-4f75-bfc0-04ea56656640",
   "metadata": {
    "tags": []
   },
   "outputs": [],
   "source": [
    "prompt = f\"\"\"\n",
    "<context> 태그 안의 내용을 참고해서 사용자 질문에 답변해줘.\n",
    "서두는 건너뛰고 질문에 대한 답변만 해줘\n",
    "\n",
    "<context>\n",
    "{context}\n",
    "</context>\n",
    "\n",
    "User: {query}\n",
    "Assistant:\n",
    "\"\"\"\n",
    "\n",
    "prompt"
   ]
  },
  {
   "cell_type": "markdown",
   "id": "d984c8f5-dc42-4b3d-acbe-89ae2ba7d2aa",
   "metadata": {
    "tags": []
   },
   "source": [
    "### 4-2. 응답 생성"
   ]
  },
  {
   "cell_type": "code",
   "execution_count": null,
   "id": "563af40b-822b-45d7-9117-200264ceb182",
   "metadata": {
    "tags": []
   },
   "outputs": [],
   "source": [
    "import boto3\n",
    "import json\n",
    "\n",
    "# Bedrock 클라이언트 생성\n",
    "bedrock_runtime = boto3.client('bedrock-runtime')\n",
    "\n",
    "# converse API 호출\n",
    "response = bedrock_runtime.converse(\n",
    "    modelId=\"anthropic.claude-3-haiku-20240307-v1:0\",\n",
    "    messages=[{\"role\": \"user\", \"content\": [{\"text\": prompt}]}],\n",
    "    system=[{\"text\": \"당신은 친절한 AI 친구입니다. 상냥하게 답변해주세요.\"}],\n",
    "    inferenceConfig={\"maxTokens\": 512, \"temperature\": 0.5, \"topP\": 0.9}\n",
    ")\n",
    "\n",
    "# 응답 처리\n",
    "ai_message = response[\"output\"][\"message\"]\n",
    "output_text = ai_message[\"content\"][0][\"text\"]\n",
    "print(f\"{output_text}\")"
   ]
  },
  {
   "cell_type": "markdown",
   "id": "54b0a95f-5e20-40c8-9268-ac011dc0014e",
   "metadata": {},
   "source": [
    "## 5. RAG 구성으로 호출 - \bLlama 3.2 사용해서 응답 생성"
   ]
  },
  {
   "cell_type": "markdown",
   "id": "5f736e9f-cb4e-47f1-8dbf-97927384573a",
   "metadata": {},
   "source": [
    "### 5-1. Knowledge Base 에서 질문과 유사도가 높은 내용 검색"
   ]
  },
  {
   "cell_type": "code",
   "execution_count": null,
   "id": "26788f30-fdfc-4952-8ccf-320334202c55",
   "metadata": {
    "tags": []
   },
   "outputs": [],
   "source": [
    "query = \"What is Amazon's vision?\"\n",
    "k = 3\n",
    "results=vector_db.similarity_search_with_score(\n",
    "    query,\n",
    "    k=k\n",
    ")\n",
    "page_contents = [res[0].page_content for res in results]\n",
    "print(page_contents[0])"
   ]
  },
  {
   "cell_type": "markdown",
   "id": "a05e2dbc-3a09-40eb-99c6-340a9fe13759",
   "metadata": {},
   "source": [
    "### 5-2. 유사도가 높은 내용(Context)을 포함한 프롬프트 작성"
   ]
  },
  {
   "cell_type": "code",
   "execution_count": null,
   "id": "a01365f3-c833-4d29-9c75-04543087d582",
   "metadata": {
    "tags": []
   },
   "outputs": [],
   "source": [
    "prompt=f\"\"\"\n",
    "<|begin_of_text|><|start_header_id|>system<|end_header_id|>\n",
    "Given the following information about user question.\n",
    "{system}|eot_id|><|start_header_id|>user<|end_header_id|>\n",
    "{text}<|eot_id|><|start_header_id|>assistant<|end_header_id|>\n",
    "\"\"\""
   ]
  },
  {
   "cell_type": "code",
   "execution_count": null,
   "id": "748ae810-dcfa-4b13-91a6-e203af97348d",
   "metadata": {
    "tags": []
   },
   "outputs": [],
   "source": [
    "import json\n",
    "import boto3\n",
    "import datetime\n",
    "\n",
    "region = boto3.Session().region_name\n",
    "sagemaker_runtime = boto3.client(\n",
    "    \"sagemaker-runtime\",\n",
    "    region_name=region\n",
    ")"
   ]
  },
  {
   "cell_type": "code",
   "execution_count": null,
   "id": "0bc5d087-663a-4e4c-8715-80aa389fd01c",
   "metadata": {
    "tags": []
   },
   "outputs": [],
   "source": [
    "client = boto3.client(\"sagemaker-runtime\", region_name='us-west-2')\n",
    "\n",
    "# Payload 직성\n",
    "payload = {\n",
    "    \"inputs\": prompt,\n",
    "    \"parameters\": {\n",
    "        \"max_new_tokens\": 512,\n",
    "        \"top_p\": 0.9,\n",
    "        \"temperature\": 0.9,\n",
    "    }\n",
    "}\n",
    "\n",
    "# SageMaer Endpoint 호출\n",
    "response = client.invoke_endpoint(\n",
    "    # EndpointName=endpoint_name,\n",
    "    EndpointName=\"llama-3-2-1b-instruct-2024-11-18-14-18-13-972\",\n",
    "    ContentType=\"application/json\",\n",
    "    Body=json.dumps(payload),\n",
    ")\n",
    "\n",
    "# 응답 처리\n",
    "end_time = datetime.datetime.now()\n",
    "response_body = json.loads(response['Body'].read().decode())\n",
    "\n",
    "\n",
    "# 결과 출력\n",
    "print(f\"# Response\\n- {response_body['generated_text']}\\n\")"
   ]
  },
  {
   "cell_type": "code",
   "execution_count": null,
   "id": "fae200f4-d143-4053-8d8a-75e01878a774",
   "metadata": {},
   "outputs": [],
   "source": []
  }
 ],
 "metadata": {
  "kernelspec": {
   "display_name": "conda_python3",
   "language": "python",
   "name": "conda_python3"
  },
  "language_info": {
   "codemirror_mode": {
    "name": "ipython",
    "version": 3
   },
   "file_extension": ".py",
   "mimetype": "text/x-python",
   "name": "python",
   "nbconvert_exporter": "python",
   "pygments_lexer": "ipython3",
   "version": "3.10.15"
  }
 },
 "nbformat": 4,
 "nbformat_minor": 5
}
