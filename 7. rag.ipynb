{
 "cells": [
  {
   "cell_type": "markdown",
   "id": "e495e636",
   "metadata": {},
   "source": [
    "# LLM 과 OpenSearch 를 이용해서 RAG 아키텍처를 구축합니다.\n",
    "\n",
    "\n",
    "여기서는 OpenSearch 가 설치된 것을 가정합니다."
   ]
  },
  {
   "cell_type": "markdown",
   "id": "71383b14",
   "metadata": {},
   "source": [
    "## 0. 필요한 변수 불러오기"
   ]
  },
  {
   "cell_type": "code",
   "execution_count": 1,
   "id": "44472fae",
   "metadata": {},
   "outputs": [
    {
     "name": "stdout",
     "output_type": "stream",
     "text": [
      "OpenSearch User Id: raguser\n",
      "OpenSearch User Password: Passw0rd1!\n",
      "OpenSearch Domain Name: rag-hol-c10dc17d\n",
      "OpenSearch Domain Endpoint: https://search-rag-hol-c10dc17d-ddlzarx5gvyn65qc2e6og2frfq.us-west-2.es.amazonaws.com\n",
      "\n",
      "SageMaker EndpointName: llama-3-2-1b-instruct-2024-11-21-01-23-27-964\n",
      "\n"
     ]
    }
   ],
   "source": [
    "# OpenSearch와 통신하기 위해서 앞서 저장했던 변수를 불러옵니다.\n",
    "%store -r opensearch_user_id opensearch_user_password opensearch_domain_name opensearch_domain_endpoint\n",
    "\n",
    "print(f\"OpenSearch User Id: {opensearch_user_id}\")\n",
    "print(f\"OpenSearch User Password: {opensearch_user_password}\")\n",
    "print(f\"OpenSearch Domain Name: {opensearch_domain_name}\")\n",
    "print(f\"OpenSearch Domain Endpoint: {opensearch_domain_endpoint}\")\n",
    "print()\n",
    "    \n",
    "    \n",
    "# SageMaker Endpoint 와 통신하기 위해서 저장했던 변수를 불러옵니다.\n",
    "%store -r endpoint_name\n",
    "print(f\"SageMaker EndpointName: {endpoint_name}\")\n",
    "print()"
   ]
  },
  {
   "cell_type": "code",
   "execution_count": 2,
   "id": "0288fb65",
   "metadata": {},
   "outputs": [],
   "source": [
    "# 저장이 되어 있지 않다면 직접 관련 정보를 입력합니다.\n",
    "\n",
    "# opensearch_user_id = 'raguser'\n",
    "# opensearch_user_password = 'Passw0rd1!'\n",
    "\n",
    "# opensearch_domain_name = 'rag-hol-6efd6d14'\n",
    "# opensearch_domain_endpoint = 'https://search-rag-hol-6efd6d14-5wbkv7qjrlci47h5ka63cw5fxy.us-west-2.es.amazonaws.com'\n",
    "\n",
    "# endpoint_name='llama-3-2-1b-instruct-2024-11-18-14-18-13-972'"
   ]
  },
  {
   "cell_type": "markdown",
   "id": "1bf0d61a-bbc7-435f-a33e-b8598dd0a33c",
   "metadata": {},
   "source": [
    "## 1. OpenSearchVectorSearch 생성"
   ]
  },
  {
   "cell_type": "code",
   "execution_count": 3,
   "id": "fad2928b",
   "metadata": {},
   "outputs": [],
   "source": [
    "import boto3\n",
    "from langchain_aws import BedrockEmbeddings\n",
    "from langchain_community.vectorstores import OpenSearchVectorSearch\n",
    "\n",
    "# Embedding Model 생성\n",
    "bedrock_runtime = boto3.client('bedrock-runtime')\n",
    "embedding = BedrockEmbeddings(\n",
    "    client=bedrock_runtime,\n",
    "    model_id=\"amazon.titan-embed-text-v2:0\", # Titan Text Embeddings V2\n",
    ")\n",
    "\n",
    "# Index Name 정의\n",
    "index_name = \"rag-index-name\"\n",
    "\n",
    "# OpenSearch 인증 정보\n",
    "http_auth = (opensearch_user_id, opensearch_user_password)\n",
    "\n",
    "# OpenSearchVectorSearch 생성\n",
    "vector_db = OpenSearchVectorSearch(\n",
    "    index_name=index_name,\n",
    "    opensearch_url=opensearch_domain_endpoint,\n",
    "    embedding_function=embedding,\n",
    "    http_auth=http_auth, # http_auth\n",
    ")"
   ]
  },
  {
   "cell_type": "code",
   "execution_count": 4,
   "id": "32e38aa5",
   "metadata": {},
   "outputs": [],
   "source": [
    "# from opensearchpy import OpenSearch, RequestsHttpConnection\n",
    "\n",
    "# # Delete index\n",
    "# os_client = OpenSearch(\n",
    "#     region=region,\n",
    "#     hosts=[{'host': opensearch_domain_endpoint.replace(\"https://\", \"\"), 'port': 443}],\n",
    "#     http_auth=http_auth,\n",
    "#     use_ssl=True,\n",
    "#     verify_certs=True,\n",
    "#     connection_class=RequestsHttpConnection\n",
    "# )\n",
    "# os_client.indices.delete(index=index_name)"
   ]
  },
  {
   "cell_type": "markdown",
   "id": "d244d6ae",
   "metadata": {},
   "source": [
    "## 4. RAG 구성으로 호출 - Bedrock 사용해서 응답 생성"
   ]
  },
  {
   "cell_type": "markdown",
   "id": "2802d83c-49a0-4129-8db4-f22182b07d23",
   "metadata": {
    "tags": []
   },
   "source": [
    "### 4-1. Knowledge Base 에서 질문과 유사도가 높은 내용 검색"
   ]
  },
  {
   "cell_type": "code",
   "execution_count": 5,
   "id": "dc105533",
   "metadata": {
    "tags": []
   },
   "outputs": [
    {
     "name": "stdout",
     "output_type": "stream",
     "text": [
      "Setting the bar high in our approach to hiring has been, and will continue to be, thesingle most important element of Amazon.com’s success. It’s not easy to work here (when I interview people I tell them, “Y ou can work long, hard, or smart, but at Amazon.com you can’t choose two out of three”), but we are working to build something important, somethingthat matters to our customers, something that we can all tell our grandchildren about. Such things aren’t meant tobe easy. We are incredibly fortunate to have this group of dedicated employees whose sacrifices and passionbuild Amazon.com. Goals for 1998 We are still in the early stages of learning how to bring new value to our customers through Internet commerce and merchandising. Our goal remains to continue to solidify and extend our brand and customer base.This requires sustained investment in systems and infrastructure to support outstanding customer convenience,selection, and service while we grow.\n"
     ]
    }
   ],
   "source": [
    "query = \"아마존의 비전은 무엇인가요\"\n",
    "k = 3\n",
    "results=vector_db.similarity_search_with_score(\n",
    "    query,\n",
    "    k=k\n",
    ")\n",
    "page_contents = [res[0].page_content for res in results]\n",
    "context = page_contents[0]\n",
    "print(context)"
   ]
  },
  {
   "cell_type": "markdown",
   "id": "f450460d-6c6b-44fd-a9ea-228dad7d4140",
   "metadata": {},
   "source": [
    "### 4-2. 유사도가 높은 내용(Context)을 포함한 프롬프트 작성"
   ]
  },
  {
   "cell_type": "code",
   "execution_count": 6,
   "id": "a17df6b8-2a06-4f75-bfc0-04ea56656640",
   "metadata": {
    "tags": []
   },
   "outputs": [
    {
     "data": {
      "text/plain": [
       "'\\n<context> 태그 안의 내용을 참고해서 사용자 질문에 답변해줘.\\n서두는 건너뛰고 질문에 대한 답변만 해줘\\n\\n<context>\\nSetting the bar high in our approach to hiring has been, and will continue to be, thesingle most important element of Amazon.com’s success. It’s not easy to work here (when I interview people I tell them, “Y ou can work long, hard, or smart, but at Amazon.com you can’t choose two out of three”), but we are working to build something important, somethingthat matters to our customers, something that we can all tell our grandchildren about. Such things aren’t meant tobe easy. We are incredibly fortunate to have this group of dedicated employees whose sacrifices and passionbuild Amazon.com. Goals for 1998 We are still in the early stages of learning how to bring new value to our customers through Internet commerce and merchandising. Our goal remains to continue to solidify and extend our brand and customer base.This requires sustained investment in systems and infrastructure to support outstanding customer convenience,selection, and service while we grow.\\n</context>\\n\\nUser: 아마존의 비전은 무엇인가요\\nAssistant:\\n'"
      ]
     },
     "execution_count": 6,
     "metadata": {},
     "output_type": "execute_result"
    }
   ],
   "source": [
    "prompt = f\"\"\"\n",
    "<context> 태그 안의 내용을 참고해서 사용자 질문에 답변해줘.\n",
    "서두는 건너뛰고 질문에 대한 답변만 해줘\n",
    "\n",
    "<context>\n",
    "{context}\n",
    "</context>\n",
    "\n",
    "User: {query}\n",
    "Assistant:\n",
    "\"\"\"\n",
    "\n",
    "prompt"
   ]
  },
  {
   "cell_type": "markdown",
   "id": "d984c8f5-dc42-4b3d-acbe-89ae2ba7d2aa",
   "metadata": {
    "tags": []
   },
   "source": [
    "### 4-2. 응답 생성"
   ]
  },
  {
   "cell_type": "code",
   "execution_count": 7,
   "id": "563af40b-822b-45d7-9117-200264ceb182",
   "metadata": {
    "tags": []
   },
   "outputs": [
    {
     "name": "stdout",
     "output_type": "stream",
     "text": [
      "아마존의 비전은 고객에게 새로운 가치를 제공하는 것입니다. 이를 위해 지속적인 투자를 통해 고객 편의성, 선택권, 서비스 품질을 향상시키면서 브랜드와 고객 기반을 공고히 하고자 합니다.\n"
     ]
    }
   ],
   "source": [
    "import boto3\n",
    "import json\n",
    "\n",
    "# Bedrock 클라이언트 생성\n",
    "bedrock_runtime = boto3.client('bedrock-runtime')\n",
    "\n",
    "# converse API 호출\n",
    "response = bedrock_runtime.converse(\n",
    "    modelId=\"anthropic.claude-3-haiku-20240307-v1:0\",\n",
    "    messages=[{\"role\": \"user\", \"content\": [{\"text\": prompt}]}],\n",
    "    system=[{\"text\": \"당신은 친절한 AI 친구입니다. 상냥하게 답변해주세요.\"}],\n",
    "    inferenceConfig={\"maxTokens\": 512, \"temperature\": 0.5, \"topP\": 0.9}\n",
    ")\n",
    "\n",
    "# 응답 처리\n",
    "ai_message = response[\"output\"][\"message\"]\n",
    "output_text = ai_message[\"content\"][0][\"text\"]\n",
    "print(f\"{output_text}\")"
   ]
  },
  {
   "cell_type": "markdown",
   "id": "54b0a95f-5e20-40c8-9268-ac011dc0014e",
   "metadata": {},
   "source": [
    "## 5. RAG 구성으로 호출 - \bLlama 3.2 사용해서 응답 생성"
   ]
  },
  {
   "cell_type": "markdown",
   "id": "5f736e9f-cb4e-47f1-8dbf-97927384573a",
   "metadata": {},
   "source": [
    "### 5-1. Knowledge Base 에서 질문과 유사도가 높은 내용 검색"
   ]
  },
  {
   "cell_type": "code",
   "execution_count": 8,
   "id": "26788f30-fdfc-4952-8ccf-320334202c55",
   "metadata": {
    "tags": []
   },
   "outputs": [
    {
     "name": "stdout",
     "output_type": "stream",
     "text": [
      "We operate in a diverse number of market segments, but what ties Amazon together is our joint missionto make customers’ lives better and easier every day. This is true across every customer segment we serve(consumers, sellers, brands, developers, enterprises, and creators). At our best, we’re not just customerobsessed, but also inventive, thinking several years out, learning like crazy, scrappy, delivering quickly, andoperating like the world’s biggest start-up. We spend enormous energy thinking about how to empower builders, inside and outside of our company. We characterize builders as people who like to invent. They like to dissect a customer experience, assess what’swrong with it, and reinvent it. Builders tend not to be satisfied until the customer experience is perfect.This doesn’t hinder them from delivering improvements along the way, but it drives them to keep tinkeringand iterating continually.\n"
     ]
    }
   ],
   "source": [
    "query = \"What is Amazon's vision?\"\n",
    "k = 3\n",
    "results=vector_db.similarity_search_with_score(\n",
    "    query,\n",
    "    k=k\n",
    ")\n",
    "page_contents = [res[0].page_content for res in results]\n",
    "context = page_contents[0]\n",
    "print(context)"
   ]
  },
  {
   "cell_type": "markdown",
   "id": "a05e2dbc-3a09-40eb-99c6-340a9fe13759",
   "metadata": {},
   "source": [
    "### 5-2. 유사도가 높은 내용(Context)을 포함한 프롬프트 작성"
   ]
  },
  {
   "cell_type": "code",
   "execution_count": 9,
   "id": "a01365f3-c833-4d29-9c75-04543087d582",
   "metadata": {
    "tags": []
   },
   "outputs": [
    {
     "data": {
      "text/plain": [
       "\"\\nContext information is below.\\n---------------------\\nWe operate in a diverse number of market segments, but what ties Amazon together is our joint missionto make customers’ lives better and easier every day. This is true across every customer segment we serve(consumers, sellers, brands, developers, enterprises, and creators). At our best, we’re not just customerobsessed, but also inventive, thinking several years out, learning like crazy, scrappy, delivering quickly, andoperating like the world’s biggest start-up. We spend enormous energy thinking about how to empower builders, inside and outside of our company. We characterize builders as people who like to invent. They like to dissect a customer experience, assess what’swrong with it, and reinvent it. Builders tend not to be satisfied until the customer experience is perfect.This doesn’t hinder them from delivering improvements along the way, but it drives them to keep tinkeringand iterating continually.\\n---------------------\\nGiven the context information and not prior knowledge, answer the query.\\nQuery: What is Amazon's vision?\\nAnswer: \\n\""
      ]
     },
     "execution_count": 9,
     "metadata": {},
     "output_type": "execute_result"
    }
   ],
   "source": [
    "prompt = f\"\"\"\n",
    "Context information is below.\n",
    "---------------------\n",
    "{context}\n",
    "---------------------\n",
    "Given the context information and not prior knowledge, answer the query.\n",
    "Query: {query}\n",
    "Answer: \n",
    "\"\"\"\n",
    "prompt"
   ]
  },
  {
   "cell_type": "code",
   "execution_count": 10,
   "id": "748ae810-dcfa-4b13-91a6-e203af97348d",
   "metadata": {
    "tags": []
   },
   "outputs": [],
   "source": [
    "import json\n",
    "import boto3\n",
    "import datetime\n",
    "\n",
    "region = boto3.Session().region_name\n",
    "sagemaker_runtime = boto3.client(\n",
    "    \"sagemaker-runtime\",\n",
    "    region_name=region\n",
    ")"
   ]
  },
  {
   "cell_type": "code",
   "execution_count": 11,
   "id": "0bc5d087-663a-4e4c-8715-80aa389fd01c",
   "metadata": {
    "tags": []
   },
   "outputs": [
    {
     "ename": "ValidationError",
     "evalue": "An error occurred (ValidationError) when calling the InvokeEndpoint operation: Endpoint llama-3-2-1b-instruct-2024-11-21-01-23-27-964 of account 134778062208 not found.",
     "output_type": "error",
     "traceback": [
      "\u001b[0;31m---------------------------------------------------------------------------\u001b[0m",
      "\u001b[0;31mValidationError\u001b[0m                           Traceback (most recent call last)",
      "Cell \u001b[0;32mIn[11], line 14\u001b[0m\n\u001b[1;32m      4\u001b[0m payload \u001b[38;5;241m=\u001b[39m {\n\u001b[1;32m      5\u001b[0m     \u001b[38;5;124m\"\u001b[39m\u001b[38;5;124minputs\u001b[39m\u001b[38;5;124m\"\u001b[39m: prompt,\n\u001b[1;32m      6\u001b[0m     \u001b[38;5;124m\"\u001b[39m\u001b[38;5;124mparameters\u001b[39m\u001b[38;5;124m\"\u001b[39m: {\n\u001b[0;32m   (...)\u001b[0m\n\u001b[1;32m     10\u001b[0m     }\n\u001b[1;32m     11\u001b[0m }\n\u001b[1;32m     13\u001b[0m \u001b[38;5;66;03m# SageMaer Endpoint 호출\u001b[39;00m\n\u001b[0;32m---> 14\u001b[0m response \u001b[38;5;241m=\u001b[39m \u001b[43mclient\u001b[49m\u001b[38;5;241;43m.\u001b[39;49m\u001b[43minvoke_endpoint\u001b[49m\u001b[43m(\u001b[49m\n\u001b[1;32m     15\u001b[0m \u001b[43m    \u001b[49m\u001b[43mEndpointName\u001b[49m\u001b[38;5;241;43m=\u001b[39;49m\u001b[43mendpoint_name\u001b[49m\u001b[43m,\u001b[49m\n\u001b[1;32m     16\u001b[0m \u001b[43m    \u001b[49m\u001b[38;5;66;43;03m# EndpointName=\"llama-3-2-1b-instruct-2024-11-18-14-18-13-972\",\u001b[39;49;00m\n\u001b[1;32m     17\u001b[0m \u001b[43m    \u001b[49m\u001b[43mContentType\u001b[49m\u001b[38;5;241;43m=\u001b[39;49m\u001b[38;5;124;43m\"\u001b[39;49m\u001b[38;5;124;43mapplication/json\u001b[39;49m\u001b[38;5;124;43m\"\u001b[39;49m\u001b[43m,\u001b[49m\n\u001b[1;32m     18\u001b[0m \u001b[43m    \u001b[49m\u001b[43mBody\u001b[49m\u001b[38;5;241;43m=\u001b[39;49m\u001b[43mjson\u001b[49m\u001b[38;5;241;43m.\u001b[39;49m\u001b[43mdumps\u001b[49m\u001b[43m(\u001b[49m\u001b[43mpayload\u001b[49m\u001b[43m)\u001b[49m\u001b[43m,\u001b[49m\n\u001b[1;32m     19\u001b[0m \u001b[43m)\u001b[49m\n\u001b[1;32m     21\u001b[0m \u001b[38;5;66;03m# 응답 처리\u001b[39;00m\n\u001b[1;32m     22\u001b[0m end_time \u001b[38;5;241m=\u001b[39m datetime\u001b[38;5;241m.\u001b[39mdatetime\u001b[38;5;241m.\u001b[39mnow()\n",
      "File \u001b[0;32m~/anaconda3/envs/python3/lib/python3.10/site-packages/botocore/client.py:569\u001b[0m, in \u001b[0;36mClientCreator._create_api_method.<locals>._api_call\u001b[0;34m(self, *args, **kwargs)\u001b[0m\n\u001b[1;32m    565\u001b[0m     \u001b[38;5;28;01mraise\u001b[39;00m \u001b[38;5;167;01mTypeError\u001b[39;00m(\n\u001b[1;32m    566\u001b[0m         \u001b[38;5;124mf\u001b[39m\u001b[38;5;124m\"\u001b[39m\u001b[38;5;132;01m{\u001b[39;00mpy_operation_name\u001b[38;5;132;01m}\u001b[39;00m\u001b[38;5;124m() only accepts keyword arguments.\u001b[39m\u001b[38;5;124m\"\u001b[39m\n\u001b[1;32m    567\u001b[0m     )\n\u001b[1;32m    568\u001b[0m \u001b[38;5;66;03m# The \"self\" in this scope is referring to the BaseClient.\u001b[39;00m\n\u001b[0;32m--> 569\u001b[0m \u001b[38;5;28;01mreturn\u001b[39;00m \u001b[38;5;28;43mself\u001b[39;49m\u001b[38;5;241;43m.\u001b[39;49m\u001b[43m_make_api_call\u001b[49m\u001b[43m(\u001b[49m\u001b[43moperation_name\u001b[49m\u001b[43m,\u001b[49m\u001b[43m \u001b[49m\u001b[43mkwargs\u001b[49m\u001b[43m)\u001b[49m\n",
      "File \u001b[0;32m~/anaconda3/envs/python3/lib/python3.10/site-packages/botocore/client.py:1023\u001b[0m, in \u001b[0;36mBaseClient._make_api_call\u001b[0;34m(self, operation_name, api_params)\u001b[0m\n\u001b[1;32m   1019\u001b[0m     error_code \u001b[38;5;241m=\u001b[39m error_info\u001b[38;5;241m.\u001b[39mget(\u001b[38;5;124m\"\u001b[39m\u001b[38;5;124mQueryErrorCode\u001b[39m\u001b[38;5;124m\"\u001b[39m) \u001b[38;5;129;01mor\u001b[39;00m error_info\u001b[38;5;241m.\u001b[39mget(\n\u001b[1;32m   1020\u001b[0m         \u001b[38;5;124m\"\u001b[39m\u001b[38;5;124mCode\u001b[39m\u001b[38;5;124m\"\u001b[39m\n\u001b[1;32m   1021\u001b[0m     )\n\u001b[1;32m   1022\u001b[0m     error_class \u001b[38;5;241m=\u001b[39m \u001b[38;5;28mself\u001b[39m\u001b[38;5;241m.\u001b[39mexceptions\u001b[38;5;241m.\u001b[39mfrom_code(error_code)\n\u001b[0;32m-> 1023\u001b[0m     \u001b[38;5;28;01mraise\u001b[39;00m error_class(parsed_response, operation_name)\n\u001b[1;32m   1024\u001b[0m \u001b[38;5;28;01melse\u001b[39;00m:\n\u001b[1;32m   1025\u001b[0m     \u001b[38;5;28;01mreturn\u001b[39;00m parsed_response\n",
      "\u001b[0;31mValidationError\u001b[0m: An error occurred (ValidationError) when calling the InvokeEndpoint operation: Endpoint llama-3-2-1b-instruct-2024-11-21-01-23-27-964 of account 134778062208 not found."
     ]
    }
   ],
   "source": [
    "client = boto3.client(\"sagemaker-runtime\", region_name='us-west-2')\n",
    "\n",
    "# Payload 직성\n",
    "payload = {\n",
    "    \"inputs\": prompt,\n",
    "    \"parameters\": {\n",
    "        \"max_new_tokens\": 512,\n",
    "        \"top_p\": 0.9,\n",
    "        \"temperature\": 0.1,\n",
    "    }\n",
    "}\n",
    "\n",
    "# SageMaer Endpoint 호출\n",
    "response = client.invoke_endpoint(\n",
    "    EndpointName=endpoint_name,\n",
    "    # EndpointName=\"llama-3-2-1b-instruct-2024-11-18-14-18-13-972\",\n",
    "    ContentType=\"application/json\",\n",
    "    Body=json.dumps(payload),\n",
    ")\n",
    "\n",
    "# 응답 처리\n",
    "end_time = datetime.datetime.now()\n",
    "response_body = json.loads(response['Body'].read().decode())\n",
    "\n",
    "\n",
    "# 결과 출력\n",
    "print(f\"# Response\\n- {response_body['generated_text']}\\n\")"
   ]
  },
  {
   "cell_type": "code",
   "execution_count": null,
   "id": "fae200f4-d143-4053-8d8a-75e01878a774",
   "metadata": {},
   "outputs": [],
   "source": []
  }
 ],
 "metadata": {
  "kernelspec": {
   "display_name": "conda_python3",
   "language": "python",
   "name": "conda_python3"
  },
  "language_info": {
   "codemirror_mode": {
    "name": "ipython",
    "version": 3
   },
   "file_extension": ".py",
   "mimetype": "text/x-python",
   "name": "python",
   "nbconvert_exporter": "python",
   "pygments_lexer": "ipython3",
   "version": "3.10.15"
  }
 },
 "nbformat": 4,
 "nbformat_minor": 5
}
