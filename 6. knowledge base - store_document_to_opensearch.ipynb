{
 "cells": [
  {
   "cell_type": "markdown",
   "id": "e495e636",
   "metadata": {},
   "source": [
    "# OpenSearch 에 document 를 vector 로 변환해서 저장합니다.\n",
    "\n",
    "document 는 chunk 단위로 나뉜 다음에 vector 로 변환되어 저장합니다."
   ]
  },
  {
   "cell_type": "markdown",
   "id": "71383b14",
   "metadata": {},
   "source": [
    "## 0. 필요한 변수 불러오기"
   ]
  },
  {
   "cell_type": "code",
   "execution_count": null,
   "id": "44472fae",
   "metadata": {
    "tags": []
   },
   "outputs": [],
   "source": [
    "# OpenSearch와 통신하기 위해서 앞서 저장했던 변수를 불러옵니다.\n",
    "%store -r opensearch_user_id opensearch_user_password opensearch_domain_name opensearch_domain_endpoint\n",
    "\n",
    "print(f\"OpenSearch User Id: {opensearch_user_id}\")\n",
    "print(f\"OpenSearch User Password: {opensearch_user_password}\")\n",
    "print(f\"OpenSearch Domain Name: {opensearch_domain_name}\")\n",
    "print(f\"OpenSearch Domain Endpoint: {opensearch_domain_endpoint}\")\n",
    "print()\n",
    "    \n",
    "    \n",
    "# SageMaker Endpoint 와 통신하기 위해서 저장했던 변수를 불러옵니다.\n",
    "%store -r endpoint_name\n",
    "print(f\"SageMaker EndpointName: {endpoint_name}\")\n",
    "print()"
   ]
  },
  {
   "cell_type": "code",
   "execution_count": null,
   "id": "0288fb65",
   "metadata": {},
   "outputs": [],
   "source": [
    "# 저장이 되어 있지 않다면 직접 관련 정보를 입력합니다.\n",
    "\n",
    "# opensearch_user_id = 'raguser'\n",
    "# opensearch_user_password = 'Passw0rd1!'\n",
    "\n",
    "# opensearch_domain_name = 'rag-hol-6efd6d14'\n",
    "# opensearch_domain_endpoint = 'https://search-rag-hol-6efd6d14-5wbkv7qjrlci47h5ka63cw5fxy.us-west-2.es.amazonaws.com'\n",
    "\n",
    "# endpoint_name='llama-3-2-1b-instruct-2024-11-18-14-18-13-972'"
   ]
  },
  {
   "cell_type": "markdown",
   "id": "a3d0ed16",
   "metadata": {},
   "source": [
    "## 1. OpenSearch 호출 테스트 - 문서 저장"
   ]
  },
  {
   "cell_type": "markdown",
   "id": "14959032-1f54-4aa3-8646-caa25a34f16e",
   "metadata": {
    "tags": []
   },
   "source": [
    "### 1-1. 필요한 함수 정의\n",
    "\n",
    "- read_pdf(): PDF 파일 읽는 함수\n",
    "- split_into_sentences(): 문서를 문장단위로 분리하는 함수\n",
    "- split_into_chunk_docs(): 문서를 문장단위로 분리하고 다시 chunk 로 나누는 함수"
   ]
  },
  {
   "cell_type": "code",
   "execution_count": null,
   "id": "cc4ee61b",
   "metadata": {
    "tags": []
   },
   "outputs": [],
   "source": [
    "import re\n",
    "import os\n",
    "import PyPDF2\n",
    "from datetime import datetime\n",
    "from langchain_core.documents import Document\n",
    "\n",
    "\n",
    "# PDF 읽는 함수 정의\n",
    "def read_pdf(file_path):\n",
    "    text = \"\"\n",
    "    with open(file_path, 'rb') as file:\n",
    "        pdf_reader = PyPDF2.PdfReader(file)\n",
    "        for page in pdf_reader.pages:\n",
    "            page_text = page.extract_text()\n",
    "            if page_text:\n",
    "                text += page_text + \"\\n\"\n",
    "    \n",
    "    file_name = os.path.basename(file_path)\n",
    "    type_name = file_name.split('_')[0]\n",
    "\n",
    "    return text, file_name, type_name\n",
    "\n",
    "\n",
    "# 문서를 문장으로 분리하는 함수 정의\n",
    "def split_into_sentences(text):\n",
    "    return re.split(r'(?<=[.!?])\\s+', text)\n",
    "\n",
    "\n",
    "# 문서를 chunk 단위로 나누는 함수 정의\n",
    "def split_into_chunk_docs(text, file_name, type_name, chunk_size=1000):\n",
    "    docs = []\n",
    "    sentences = split_into_sentences(text)\n",
    "    current_chunk = \"\"\n",
    "    \n",
    "    def make_document(chunk):\n",
    "        return Document(\n",
    "                page_content=chunk.strip().replace('\\n', ' '),\n",
    "                metadata={\n",
    "                    \"source\": file_name,\n",
    "                    \"type\": type_name,\n",
    "                    \"timestamp\": datetime.now()\n",
    "                }\n",
    "            )\n",
    "    \n",
    "    for sentence in sentences:\n",
    "        current_chunk += sentence + \" \"\n",
    "        if len(current_chunk) >= chunk_size:\n",
    "            docs.append(make_document(current_chunk))\n",
    "            current_chunk = \"\"\n",
    "    \n",
    "    docs.append(make_document(current_chunk))\n",
    "    \n",
    "    return docs"
   ]
  },
  {
   "cell_type": "markdown",
   "id": "46e26a75-d14b-44bb-bb93-b8dfb5dbff12",
   "metadata": {
    "tags": []
   },
   "source": [
    "### 1-2. PDF 문서를 OpenSearch에 넣기 위해서 Chunk 단위로 분리"
   ]
  },
  {
   "cell_type": "code",
   "execution_count": null,
   "id": "0706cda3",
   "metadata": {
    "tags": []
   },
   "outputs": [],
   "source": [
    "file_path = \"file/Amazon-com-Inc-2023-Shareholder-Letter.pdf\"\n",
    "text, file_name, type_name = read_pdf(file_path)\n",
    "documents = split_into_chunk_docs(text, file_name, type_name, chunk_size=800)"
   ]
  },
  {
   "cell_type": "code",
   "execution_count": null,
   "id": "30fb3091",
   "metadata": {
    "tags": []
   },
   "outputs": [],
   "source": [
    "print(f\"Documents Size: {len(documents)}\")\n",
    "print(\"Documents Content:\")\n",
    "print(documents[0])\n",
    "print()"
   ]
  },
  {
   "cell_type": "markdown",
   "id": "94074092-9320-4fcc-8501-d9fb5608530a",
   "metadata": {},
   "source": [
    "### 1-3. OpenSearch 에 저장"
   ]
  },
  {
   "cell_type": "code",
   "execution_count": null,
   "id": "f7b27b5e",
   "metadata": {
    "tags": []
   },
   "outputs": [],
   "source": [
    "import boto3\n",
    "from langchain_aws import BedrockEmbeddings\n",
    "from langchain_community.vectorstores import OpenSearchVectorSearch\n",
    "\n",
    "# Embedding Model 생성\n",
    "bedrock_runtime = boto3.client('bedrock-runtime')\n",
    "embedding = BedrockEmbeddings(\n",
    "    client=bedrock_runtime,\n",
    "    model_id=\"amazon.titan-embed-text-v2:0\", # Titan Text Embeddings V2\n",
    ")\n",
    "\n",
    "# Index Name 정의\n",
    "index_name = \"rag-index-name\"\n",
    "\n",
    "# OpenSearch 인증 정보\n",
    "http_auth = (opensearch_user_id, opensearch_user_password)\n",
    "\n",
    "# OpenSearchVectorSearch 생성\n",
    "vector_db = OpenSearchVectorSearch(\n",
    "    index_name=index_name,\n",
    "    opensearch_url=opensearch_domain_endpoint,\n",
    "    embedding_function=embedding,\n",
    "    http_auth=http_auth, # http_auth\n",
    ")"
   ]
  },
  {
   "cell_type": "code",
   "execution_count": null,
   "id": "dc962de3",
   "metadata": {},
   "outputs": [],
   "source": [
    "vector_db.add_documents(documents)"
   ]
  },
  {
   "cell_type": "markdown",
   "id": "b5c2a519",
   "metadata": {},
   "source": [
    "## 4. OpenSearch 호출 테스트 - 문서 검색"
   ]
  },
  {
   "cell_type": "code",
   "execution_count": null,
   "id": "32e38aa5",
   "metadata": {
    "tags": []
   },
   "outputs": [],
   "source": [
    "query = \"아마존의 비전은 무엇인가요\"\n",
    "k = 3\n",
    "results=vector_db.similarity_search_with_score(\n",
    "    query,\n",
    "    k=k\n",
    ")\n",
    "page_contents = [res[0].page_content for res in results]\n",
    "context = page_contents[0]\n",
    "print(context)"
   ]
  }
 ],
 "metadata": {
  "kernelspec": {
   "display_name": "conda_python3",
   "language": "python",
   "name": "conda_python3"
  },
  "language_info": {
   "codemirror_mode": {
    "name": "ipython",
    "version": 3
   },
   "file_extension": ".py",
   "mimetype": "text/x-python",
   "name": "python",
   "nbconvert_exporter": "python",
   "pygments_lexer": "ipython3",
   "version": "3.10.15"
  }
 },
 "nbformat": 4,
 "nbformat_minor": 5
}
